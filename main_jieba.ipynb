{
 "cells": [
  {
   "cell_type": "markdown",
   "id": "5bf515eb-2298-4289-aa5e-639bb81b8fe4",
   "metadata": {},
   "source": [
    "# 结巴分词实践"
   ]
  },
  {
   "cell_type": "markdown",
   "id": "f4fd02aa-8f2e-472d-a186-87307d253a98",
   "metadata": {},
   "source": [
    "## 结巴分词的三种模式"
   ]
  },
  {
   "cell_type": "markdown",
   "id": "c0251e73-e645-4373-9380-25dcc80345dd",
   "metadata": {},
   "source": [
    "### 精准模式"
   ]
  },
  {
   "cell_type": "code",
   "execution_count": 3,
   "id": "e2f17fa6-a87d-462d-af48-5754b7673a56",
   "metadata": {},
   "outputs": [
    {
     "name": "stdout",
     "output_type": "stream",
     "text": [
      "Default Mode: 我/ 来到/ 北京/ 清华大学\n"
     ]
    }
   ],
   "source": [
    "seg_list = jieba.cut(\"我来到北京清华大学\", cut_all=False)\n",
    "print(\"Default Mode: \" + \"/ \".join(seg_list))  # 精确模式"
   ]
  },
  {
   "cell_type": "markdown",
   "id": "ee15ca9d-3393-4a86-9fda-65450cf8fb25",
   "metadata": {},
   "source": [
    "### 全模式"
   ]
  },
  {
   "cell_type": "code",
   "execution_count": 2,
   "id": "574d78e4-ad7b-4930-bb6f-33d2dbb725a0",
   "metadata": {},
   "outputs": [
    {
     "name": "stderr",
     "output_type": "stream",
     "text": [
      "Building prefix dict from the default dictionary ...\n",
      "Dumping model to file cache C:\\Users\\myj20\\AppData\\Local\\Temp\\jieba.cache\n",
      "Loading model cost 1.291 seconds.\n",
      "Prefix dict has been built successfully.\n"
     ]
    },
    {
     "name": "stdout",
     "output_type": "stream",
     "text": [
      "Full Mode: 我/ 来到/ 北京/ 清华/ 清华大学/ 华大/ 大学\n"
     ]
    }
   ],
   "source": [
    "import jieba\n",
    "seg_list = jieba.cut(\"我来到北京清华大学\", cut_all=True)\n",
    "print(\"Full Mode: \" + \"/ \".join(seg_list))  # 全模式"
   ]
  },
  {
   "cell_type": "markdown",
   "id": "1e63e322-0e54-4703-8484-6b14000d4959",
   "metadata": {},
   "source": [
    "### 搜索引擎"
   ]
  },
  {
   "cell_type": "code",
   "execution_count": 4,
   "id": "4a27bc58-645a-40ee-855b-ee369da189d1",
   "metadata": {},
   "outputs": [
    {
     "name": "stdout",
     "output_type": "stream",
     "text": [
      "小明, 硕士, 毕业, 于, 中国, 科学, 学院, 科学院, 中国科学院, 计算, 计算所, ，, 后, 在, 日本, 京都, 大学, 日本京都大学, 深造\n"
     ]
    }
   ],
   "source": [
    "seg_list = jieba.cut_for_search(\"小明硕士毕业于中国科学院计算所，后在日本京都大学深造\")  # 搜索引擎模式\n",
    "print(\", \".join(seg_list))"
   ]
  },
  {
   "cell_type": "markdown",
   "id": "3d685c0d-0eed-4fd7-82ce-69f0c63b77cc",
   "metadata": {},
   "source": [
    "## 载入词典"
   ]
  },
  {
   "cell_type": "code",
   "execution_count": 11,
   "id": "18ac86ba-766d-43fe-8031-8c90f4127148",
   "metadata": {},
   "outputs": [
    {
     "name": "stdout",
     "output_type": "stream",
     "text": [
      "Default Mode: 马允杰 / 即将 / 是 / 自然语言 / 处理 / 方面 / 的 / 高手 / 。\n"
     ]
    }
   ],
   "source": [
    "jieba.load_userdict(r\"C:\\Users\\myj20\\userdict.txt\")  # 字符串前加 r\n",
    "seg_list = jieba.cut(\"马允杰即将是自然语言处理方面的高手。\", cut_all=False, HMM=False)\n",
    "print(\"Default Mode: \" + \" / \".join(seg_list))"
   ]
  },
  {
   "cell_type": "code",
   "execution_count": 12,
   "id": "2051996c-f6a3-41b4-a8b6-864e0c5c6a00",
   "metadata": {},
   "outputs": [
    {
     "data": {
      "text/plain": [
       "['河北省人民政府', '一流大学', '燕山大学', '学科建设', '大学']"
      ]
     },
     "execution_count": 12,
     "metadata": {},
     "output_type": "execute_result"
    }
   ],
   "source": [
    "import jieba.analyse\n",
    "jieba.analyse.extract_tags(\"燕山大学是河北省人民政府、教育部、工业和信息化部、国家国防科技工业局四方共建的全国重点大学，河北省重点支持的国家一流大学和世界一流学科建设高校，北京高科大学联盟成员。\", topK=5, withWeight=False, allowPOS=())"
   ]
  },
  {
   "cell_type": "code",
   "execution_count": null,
   "id": "87beaa9e-6912-4714-ba06-f2ff363aa1a4",
   "metadata": {},
   "outputs": [],
   "source": []
  }
 ],
 "metadata": {
  "kernelspec": {
   "display_name": "Python 3 (ipykernel)",
   "language": "python",
   "name": "python3"
  },
  "language_info": {
   "codemirror_mode": {
    "name": "ipython",
    "version": 3
   },
   "file_extension": ".py",
   "mimetype": "text/x-python",
   "name": "python",
   "nbconvert_exporter": "python",
   "pygments_lexer": "ipython3",
   "version": "3.9.21"
  }
 },
 "nbformat": 4,
 "nbformat_minor": 5
}
